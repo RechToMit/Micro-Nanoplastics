{
 "cells": [
  {
   "cell_type": "markdown",
   "id": "d114890c-9f57-456e-b508-41be26b38d6c",
   "metadata": {},
   "source": [
    "# CODE TO ASSESS THE EFFECTS OF MICROPLASTICS ON GROWTH PATTERN, BODY CONDITION AND GENE EXPRESSION OF ANY FISH\n",
    "    #Code also checks if there is significant difference in growth between treatment groups following microplastics exposure\n",
    "    #Creates a volcano plot followed by the names of up/downregulated genes (data does not relate to fish)\n",
    "    #weight in grams \n",
    "    #length in mm\n",
    "    "
   ]
  },
  {
   "cell_type": "code",
   "execution_count": 60,
   "id": "b1da6fc4-a0b2-4221-b2f8-769dce6f1b03",
   "metadata": {},
   "outputs": [],
   "source": [
    "#libraries for the analyisis\n",
    "import pandas as pd\n",
    "import seaborn as sns\n",
    "import numpy as np\n",
    "import os\n",
    "import scipy\n",
    "import matplotlib.pyplot as plt\n",
    "from scipy.stats import linregress\n",
    "from scipy import stats\n"
   ]
  },
  {
   "cell_type": "code",
   "execution_count": 61,
   "id": "3ea7efac-8fb5-4ac3-92bb-0e31382d588d",
   "metadata": {},
   "outputs": [
    {
     "name": "stdout",
     "output_type": "stream",
     "text": [
      "Current Working Directory: C:\\Users\\c24024960\\OneDrive - Cardiff University\\Desktop\\SWBIO\\Data Science and Machine learning\\Python\\Data_analyisis\n"
     ]
    }
   ],
   "source": [
    "print(\"Current Working Directory:\", os.getcwd()) #getting working direrctory"
   ]
  },
  {
   "cell_type": "markdown",
   "id": "14863c32-fda3-49fb-8c48-c071ca2afcb1",
   "metadata": {},
   "source": [
    "# CACULATION OF THE EFFECTS OF MNPS ON GROWTH  PATTERN AND BODY CONDITION, OF FISH SPECIES A\n",
    "   "
   ]
  },
  {
   "cell_type": "code",
   "execution_count": 62,
   "id": "65907469-e5e5-4741-b772-581a0a295306",
   "metadata": {},
   "outputs": [],
   "source": [
    "#importing hypothetical data\n",
    "#mnps to mean micro/nanoplastics hereafter."
   ]
  },
  {
   "cell_type": "code",
   "execution_count": 32,
   "id": "56aa375d-1e54-41c5-9f2c-ef34d1b8dde6",
   "metadata": {},
   "outputs": [
    {
     "data": {
      "text/html": [
       "<div>\n",
       "<style scoped>\n",
       "    .dataframe tbody tr th:only-of-type {\n",
       "        vertical-align: middle;\n",
       "    }\n",
       "\n",
       "    .dataframe tbody tr th {\n",
       "        vertical-align: top;\n",
       "    }\n",
       "\n",
       "    .dataframe thead th {\n",
       "        text-align: right;\n",
       "    }\n",
       "</style>\n",
       "<table border=\"1\" class=\"dataframe\">\n",
       "  <thead>\n",
       "    <tr style=\"text-align: right;\">\n",
       "      <th></th>\n",
       "      <th>Control_Weight</th>\n",
       "      <th>Control_Length</th>\n",
       "      <th>1 PE MPs/mL_Weight</th>\n",
       "      <th>1 PE MPs/mL_Length</th>\n",
       "      <th>10 PE MPs/mL_Weight</th>\n",
       "      <th>10 PE MPs/mL_Length</th>\n",
       "      <th>100 PE MPs/mL_Weight</th>\n",
       "      <th>100 PE MPs/mL_Length</th>\n",
       "    </tr>\n",
       "  </thead>\n",
       "  <tbody>\n",
       "    <tr>\n",
       "      <th>0</th>\n",
       "      <td>10.0000</td>\n",
       "      <td>10.0000</td>\n",
       "      <td>10.0000</td>\n",
       "      <td>10.0000</td>\n",
       "      <td>10.0000</td>\n",
       "      <td>10.0000</td>\n",
       "      <td>10.0000</td>\n",
       "      <td>10.0000</td>\n",
       "    </tr>\n",
       "    <tr>\n",
       "      <th>1</th>\n",
       "      <td>12.0304</td>\n",
       "      <td>10.6624</td>\n",
       "      <td>14.1925</td>\n",
       "      <td>11.2657</td>\n",
       "      <td>12.4839</td>\n",
       "      <td>10.7925</td>\n",
       "      <td>15.6117</td>\n",
       "      <td>11.5861</td>\n",
       "    </tr>\n",
       "    <tr>\n",
       "      <th>2</th>\n",
       "      <td>12.2885</td>\n",
       "      <td>10.7411</td>\n",
       "      <td>14.4442</td>\n",
       "      <td>11.3263</td>\n",
       "      <td>12.6366</td>\n",
       "      <td>10.8410</td>\n",
       "      <td>15.8678</td>\n",
       "      <td>11.6432</td>\n",
       "    </tr>\n",
       "    <tr>\n",
       "      <th>3</th>\n",
       "      <td>12.5317</td>\n",
       "      <td>10.8149</td>\n",
       "      <td>14.6898</td>\n",
       "      <td>11.3842</td>\n",
       "      <td>12.7807</td>\n",
       "      <td>10.8878</td>\n",
       "      <td>16.1147</td>\n",
       "      <td>11.6976</td>\n",
       "    </tr>\n",
       "    <tr>\n",
       "      <th>4</th>\n",
       "      <td>12.7834</td>\n",
       "      <td>10.8893</td>\n",
       "      <td>14.9380</td>\n",
       "      <td>11.4410</td>\n",
       "      <td>12.9281</td>\n",
       "      <td>10.9340</td>\n",
       "      <td>16.3698</td>\n",
       "      <td>11.7516</td>\n",
       "    </tr>\n",
       "  </tbody>\n",
       "</table>\n",
       "</div>"
      ],
      "text/plain": [
       "   Control_Weight  Control_Length  1 PE MPs/mL_Weight  1 PE MPs/mL_Length  \\\n",
       "0         10.0000         10.0000             10.0000             10.0000   \n",
       "1         12.0304         10.6624             14.1925             11.2657   \n",
       "2         12.2885         10.7411             14.4442             11.3263   \n",
       "3         12.5317         10.8149             14.6898             11.3842   \n",
       "4         12.7834         10.8893             14.9380             11.4410   \n",
       "\n",
       "   10 PE MPs/mL_Weight  10 PE MPs/mL_Length  100 PE MPs/mL_Weight  \\\n",
       "0              10.0000              10.0000               10.0000   \n",
       "1              12.4839              10.7925               15.6117   \n",
       "2              12.6366              10.8410               15.8678   \n",
       "3              12.7807              10.8878               16.1147   \n",
       "4              12.9281              10.9340               16.3698   \n",
       "\n",
       "   100 PE MPs/mL_Length  \n",
       "0               10.0000  \n",
       "1               11.5861  \n",
       "2               11.6432  \n",
       "3               11.6976  \n",
       "4               11.7516  "
      ]
     },
     "execution_count": 32,
     "metadata": {},
     "output_type": "execute_result"
    }
   ],
   "source": [
    "mnps = pd.read_csv(\"Microplastics1.csv\") #reading csv data file\n",
    "mnps = mnps.drop(mnps.columns[0], axis=1) #dropping columns just to organize the dataset\n",
    "mnps.head() #viewing the first 5 rows with all the columns of the dataset"
   ]
  },
  {
   "cell_type": "markdown",
   "id": "9c734e9d-aba1-4a79-9604-34af93da5e7b",
   "metadata": {},
   "source": [
    "    ##exploring data\n",
    "    remove \"#\" to run the codes below"
   ]
  },
  {
   "cell_type": "code",
   "execution_count": 5,
   "id": "bd86033b-0f7a-433c-93f1-603a66532e4a",
   "metadata": {
    "scrolled": true
   },
   "outputs": [],
   "source": [
    "#mnps.corr()    #checking for correlation among the treatments (remove \"#\" to run the code)"
   ]
  },
  {
   "cell_type": "code",
   "execution_count": 6,
   "id": "1e47406f-bea5-4e4d-b141-2aa81caedbd2",
   "metadata": {
    "scrolled": true
   },
   "outputs": [],
   "source": [
    "#from pandas.plotting import scatter_matrix\n",
    "\n",
    "#a = scatter_matrix(mnps, figsize=(16, 16))\n",
    "#a"
   ]
  },
  {
   "cell_type": "code",
   "execution_count": 33,
   "id": "b154396f-3948-4bfb-9f4d-bcc75467c7bd",
   "metadata": {},
   "outputs": [
    {
     "data": {
      "text/html": [
       "<div>\n",
       "<style scoped>\n",
       "    .dataframe tbody tr th:only-of-type {\n",
       "        vertical-align: middle;\n",
       "    }\n",
       "\n",
       "    .dataframe tbody tr th {\n",
       "        vertical-align: top;\n",
       "    }\n",
       "\n",
       "    .dataframe thead th {\n",
       "        text-align: right;\n",
       "    }\n",
       "</style>\n",
       "<table border=\"1\" class=\"dataframe\">\n",
       "  <thead>\n",
       "    <tr style=\"text-align: right;\">\n",
       "      <th></th>\n",
       "      <th>Control_Weight</th>\n",
       "      <th>Control_Length</th>\n",
       "      <th>1 PE MPs/mL_Weight</th>\n",
       "      <th>1 PE MPs/mL_Length</th>\n",
       "      <th>10 PE MPs/mL_Weight</th>\n",
       "      <th>10 PE MPs/mL_Length</th>\n",
       "      <th>100 PE MPs/mL_Weight</th>\n",
       "      <th>100 PE MPs/mL_Length</th>\n",
       "    </tr>\n",
       "  </thead>\n",
       "  <tbody>\n",
       "    <tr>\n",
       "      <th>count</th>\n",
       "      <td>17.000000</td>\n",
       "      <td>17.000000</td>\n",
       "      <td>17.000000</td>\n",
       "      <td>17.000000</td>\n",
       "      <td>17.000000</td>\n",
       "      <td>17.000000</td>\n",
       "      <td>17.000000</td>\n",
       "      <td>17.000000</td>\n",
       "    </tr>\n",
       "    <tr>\n",
       "      <th>mean</th>\n",
       "      <td>13.676224</td>\n",
       "      <td>11.121694</td>\n",
       "      <td>15.692388</td>\n",
       "      <td>11.636476</td>\n",
       "      <td>13.386765</td>\n",
       "      <td>11.123824</td>\n",
       "      <td>17.051818</td>\n",
       "      <td>11.855053</td>\n",
       "    </tr>\n",
       "    <tr>\n",
       "      <th>std</th>\n",
       "      <td>1.489749</td>\n",
       "      <td>0.426074</td>\n",
       "      <td>1.856773</td>\n",
       "      <td>0.586161</td>\n",
       "      <td>1.118889</td>\n",
       "      <td>0.468169</td>\n",
       "      <td>2.159220</td>\n",
       "      <td>0.528778</td>\n",
       "    </tr>\n",
       "    <tr>\n",
       "      <th>min</th>\n",
       "      <td>10.000000</td>\n",
       "      <td>10.000000</td>\n",
       "      <td>10.000000</td>\n",
       "      <td>10.000000</td>\n",
       "      <td>10.000000</td>\n",
       "      <td>10.000000</td>\n",
       "      <td>10.000000</td>\n",
       "      <td>10.000000</td>\n",
       "    </tr>\n",
       "    <tr>\n",
       "      <th>25%</th>\n",
       "      <td>12.783400</td>\n",
       "      <td>10.889300</td>\n",
       "      <td>14.938000</td>\n",
       "      <td>11.441000</td>\n",
       "      <td>12.928100</td>\n",
       "      <td>10.934000</td>\n",
       "      <td>16.369800</td>\n",
       "      <td>11.751600</td>\n",
       "    </tr>\n",
       "    <tr>\n",
       "      <th>50%</th>\n",
       "      <td>13.783700</td>\n",
       "      <td>11.167700</td>\n",
       "      <td>15.925800</td>\n",
       "      <td>11.657500</td>\n",
       "      <td>13.511300</td>\n",
       "      <td>11.115700</td>\n",
       "      <td>17.357000</td>\n",
       "      <td>11.955600</td>\n",
       "    </tr>\n",
       "    <tr>\n",
       "      <th>75%</th>\n",
       "      <td>14.780100</td>\n",
       "      <td>11.433200</td>\n",
       "      <td>16.913200</td>\n",
       "      <td>11.862600</td>\n",
       "      <td>14.093700</td>\n",
       "      <td>11.292000</td>\n",
       "      <td>18.341400</td>\n",
       "      <td>12.147300</td>\n",
       "    </tr>\n",
       "    <tr>\n",
       "      <th>max</th>\n",
       "      <td>15.776300</td>\n",
       "      <td>11.685000</td>\n",
       "      <td>17.898700</td>\n",
       "      <td>13.061000</td>\n",
       "      <td>14.929000</td>\n",
       "      <td>12.420100</td>\n",
       "      <td>19.579700</td>\n",
       "      <td>12.314300</td>\n",
       "    </tr>\n",
       "  </tbody>\n",
       "</table>\n",
       "</div>"
      ],
      "text/plain": [
       "       Control_Weight  Control_Length  1 PE MPs/mL_Weight  1 PE MPs/mL_Length  \\\n",
       "count       17.000000       17.000000           17.000000           17.000000   \n",
       "mean        13.676224       11.121694           15.692388           11.636476   \n",
       "std          1.489749        0.426074            1.856773            0.586161   \n",
       "min         10.000000       10.000000           10.000000           10.000000   \n",
       "25%         12.783400       10.889300           14.938000           11.441000   \n",
       "50%         13.783700       11.167700           15.925800           11.657500   \n",
       "75%         14.780100       11.433200           16.913200           11.862600   \n",
       "max         15.776300       11.685000           17.898700           13.061000   \n",
       "\n",
       "       10 PE MPs/mL_Weight  10 PE MPs/mL_Length  100 PE MPs/mL_Weight  \\\n",
       "count            17.000000            17.000000             17.000000   \n",
       "mean             13.386765            11.123824             17.051818   \n",
       "std               1.118889             0.468169              2.159220   \n",
       "min              10.000000            10.000000             10.000000   \n",
       "25%              12.928100            10.934000             16.369800   \n",
       "50%              13.511300            11.115700             17.357000   \n",
       "75%              14.093700            11.292000             18.341400   \n",
       "max              14.929000            12.420100             19.579700   \n",
       "\n",
       "       100 PE MPs/mL_Length  \n",
       "count             17.000000  \n",
       "mean              11.855053  \n",
       "std                0.528778  \n",
       "min               10.000000  \n",
       "25%               11.751600  \n",
       "50%               11.955600  \n",
       "75%               12.147300  \n",
       "max               12.314300  "
      ]
     },
     "execution_count": 33,
     "metadata": {},
     "output_type": "execute_result"
    }
   ],
   "source": [
    "#summarizing the dasta\n",
    "mnps.describe()"
   ]
  },
  {
   "cell_type": "markdown",
   "id": "8ebc5723-e8f5-48d9-977d-4694bcbed443",
   "metadata": {},
   "source": [
    "## 1. GROWTH PATTERN"
   ]
  },
  {
   "cell_type": "markdown",
   "id": "a524431c-6966-4ef5-9648-4f20864502ec",
   "metadata": {},
   "source": [
    "1. The length–weight relationship equation for any fish is given by W=aL**b, where W = Weight, L = Length, a and b are coefficients \n",
    "2. Conversion of length and weight to log to estimate the parameters a and b\n",
    "3. Parameter b, the slope, is used to determine the growth pattern compared with the control."
   ]
  },
  {
   "cell_type": "code",
   "execution_count": 40,
   "id": "77231336-08e8-4567-b276-b27060d3196b",
   "metadata": {},
   "outputs": [],
   "source": [
    "mnps_log = np.log(mnps) #converting the variable to natural log to enalbe the extimation of the slope"
   ]
  },
  {
   "cell_type": "code",
   "execution_count": 41,
   "id": "164d5574-0da6-4dd5-b442-b266fc90b5ec",
   "metadata": {
    "scrolled": true
   },
   "outputs": [
    {
     "data": {
      "text/html": [
       "<div>\n",
       "<style scoped>\n",
       "    .dataframe tbody tr th:only-of-type {\n",
       "        vertical-align: middle;\n",
       "    }\n",
       "\n",
       "    .dataframe tbody tr th {\n",
       "        vertical-align: top;\n",
       "    }\n",
       "\n",
       "    .dataframe thead th {\n",
       "        text-align: right;\n",
       "    }\n",
       "</style>\n",
       "<table border=\"1\" class=\"dataframe\">\n",
       "  <thead>\n",
       "    <tr style=\"text-align: right;\">\n",
       "      <th></th>\n",
       "      <th>Control_Weight</th>\n",
       "      <th>Control_Length</th>\n",
       "      <th>1 PE MPs/mL_Weight</th>\n",
       "      <th>1 PE MPs/mL_Length</th>\n",
       "      <th>10 PE MPs/mL_Weight</th>\n",
       "      <th>10 PE MPs/mL_Length</th>\n",
       "      <th>100 PE MPs/mL_Weight</th>\n",
       "      <th>100 PE MPs/mL_Length</th>\n",
       "    </tr>\n",
       "  </thead>\n",
       "  <tbody>\n",
       "    <tr>\n",
       "      <th>0</th>\n",
       "      <td>2.302585</td>\n",
       "      <td>2.302585</td>\n",
       "      <td>2.302585</td>\n",
       "      <td>2.302585</td>\n",
       "      <td>2.302585</td>\n",
       "      <td>2.302585</td>\n",
       "      <td>2.302585</td>\n",
       "      <td>2.302585</td>\n",
       "    </tr>\n",
       "    <tr>\n",
       "      <th>1</th>\n",
       "      <td>2.487437</td>\n",
       "      <td>2.366724</td>\n",
       "      <td>2.652714</td>\n",
       "      <td>2.421763</td>\n",
       "      <td>2.524440</td>\n",
       "      <td>2.378851</td>\n",
       "      <td>2.748021</td>\n",
       "      <td>2.449806</td>\n",
       "    </tr>\n",
       "    <tr>\n",
       "      <th>2</th>\n",
       "      <td>2.508664</td>\n",
       "      <td>2.374078</td>\n",
       "      <td>2.670293</td>\n",
       "      <td>2.427127</td>\n",
       "      <td>2.536597</td>\n",
       "      <td>2.383335</td>\n",
       "      <td>2.764292</td>\n",
       "      <td>2.454722</td>\n",
       "    </tr>\n",
       "    <tr>\n",
       "      <th>3</th>\n",
       "      <td>2.528261</td>\n",
       "      <td>2.380925</td>\n",
       "      <td>2.687153</td>\n",
       "      <td>2.432226</td>\n",
       "      <td>2.547936</td>\n",
       "      <td>2.387643</td>\n",
       "      <td>2.779732</td>\n",
       "      <td>2.459384</td>\n",
       "    </tr>\n",
       "    <tr>\n",
       "      <th>4</th>\n",
       "      <td>2.548147</td>\n",
       "      <td>2.387781</td>\n",
       "      <td>2.703908</td>\n",
       "      <td>2.437203</td>\n",
       "      <td>2.559403</td>\n",
       "      <td>2.391877</td>\n",
       "      <td>2.795438</td>\n",
       "      <td>2.463989</td>\n",
       "    </tr>\n",
       "  </tbody>\n",
       "</table>\n",
       "</div>"
      ],
      "text/plain": [
       "   Control_Weight  Control_Length  1 PE MPs/mL_Weight  1 PE MPs/mL_Length  \\\n",
       "0        2.302585        2.302585            2.302585            2.302585   \n",
       "1        2.487437        2.366724            2.652714            2.421763   \n",
       "2        2.508664        2.374078            2.670293            2.427127   \n",
       "3        2.528261        2.380925            2.687153            2.432226   \n",
       "4        2.548147        2.387781            2.703908            2.437203   \n",
       "\n",
       "   10 PE MPs/mL_Weight  10 PE MPs/mL_Length  100 PE MPs/mL_Weight  \\\n",
       "0             2.302585             2.302585              2.302585   \n",
       "1             2.524440             2.378851              2.748021   \n",
       "2             2.536597             2.383335              2.764292   \n",
       "3             2.547936             2.387643              2.779732   \n",
       "4             2.559403             2.391877              2.795438   \n",
       "\n",
       "   100 PE MPs/mL_Length  \n",
       "0              2.302585  \n",
       "1              2.449806  \n",
       "2              2.454722  \n",
       "3              2.459384  \n",
       "4              2.463989  "
      ]
     },
     "execution_count": 41,
     "metadata": {},
     "output_type": "execute_result"
    }
   ],
   "source": [
    "mnps_log.head()"
   ]
  },
  {
   "cell_type": "code",
   "execution_count": 42,
   "id": "11074b54-be30-4e38-b643-8216806d8583",
   "metadata": {},
   "outputs": [],
   "source": [
    "#InitialziNG two dictionaries to contain different type of growth per treatmennts and body condition\n",
    "type_growth = {}\n",
    "body_condition = {}"
   ]
  },
  {
   "cell_type": "code",
   "execution_count": 43,
   "id": "e126c577-f667-414a-b41a-01fea8c2b563",
   "metadata": {},
   "outputs": [],
   "source": [
    "#Perform linear regression on each treatment\n",
    "#Control\n",
    "x = mnps_log['Control_Length']\n",
    "y = mnps_log['Control_Weight']\n",
    "slope, intercept, r_value, p_value, std_err = linregress(x, y)\n",
    "\n",
    "# Create the plot\n",
    "sns.set_theme()\n",
    "#remove the \"#\" to visualzie the plot\n",
    "#sns.regplot(data=mnps_log, x=x, y=y, fit_reg=True)\n",
    "\n",
    "# Add the regression equation as text\n",
    "equation = f\"y = {slope:.2f}x + {intercept:.2f}\\nR² = {r_value**2:.2f}\"\n",
    "#remove the \"#\" to visualzie the plot\n",
    "#plt.text(x.min(), y.max(), equation, fontsize=12, color='blue')\n",
    "\n",
    "slope_control = round(slope,2)\n",
    "type_growth[\"Control\"] = slope_control\n",
    "#Remove \"#\" to show theh slope\n",
    "#print(slope_control)\n",
    "# Show the plot by removing \"#\" from the code below\n",
    "#plt.show()\n",
    "\n",
    "\n",
    "\n",
    "# Perform linear regression on second treatment\n",
    "x = mnps_log['1 PE MPs/mL_Length']\n",
    "y = mnps_log['1 PE MPs/mL_Weight']\n",
    "slope, intercept, r_value, p_value, std_err = linregress(x, y)\n",
    "\n",
    "# Create the plot\n",
    "sns.set_theme()\n",
    "#remove the \"#\" to visualzie the plot\n",
    "#sns.regplot(data=mnps_log, x=x, y=y, fit_reg=True)\n",
    "\n",
    "# Add the regression equation as text\n",
    "equation = f\"y = {slope:.2f}x + {intercept:.2f}\\nR² = {r_value**2:.2f}\"\n",
    "#remove the \"#\" to visualzie the plot\n",
    "#plt.text(x.min(), y.max(), equation, fontsize=12, color='blue')\n",
    "\n",
    "slope_1_PE = round(slope,2)\n",
    "type_growth[\"1_PE\"] = slope_1_PE\n",
    "#Remove \"#\" to show theh slope\n",
    "#print(slope_1_PE)\n",
    "#Show the plot by removing \"#\" from the code below\n",
    "#plt.show()\n",
    "\n",
    "\n",
    "\n",
    "# Perform linear regression on third treatment\n",
    "x = mnps_log['10 PE MPs/mL_Length']\n",
    "y = mnps_log['10 PE MPs/mL_Weight']\n",
    "slope, intercept, r_value, p_value, std_err = linregress(x, y)\n",
    "\n",
    "# Create the plot\n",
    "sns.set_theme()\n",
    "#remove the \"#\" to visualzie the plot\n",
    "#sns.regplot(data=mnps_log, x=x, y=y, fit_reg=True)\n",
    "\n",
    "# Add the regression equation as text\n",
    "equation = f\"y = {slope:.2f}x + {intercept:.2f}\\nR² = {r_value**2:.2f}\"\n",
    "#remove the \"#\" to visualzie the plot\n",
    "#plt.text(x.min(), y.max(), equation, fontsize=12, color='blue')\n",
    "\n",
    "slope_10_PE = round(slope,2)\n",
    "type_growth[\"10_PE\"] = slope_10_PE\n",
    "#Remove \"#\" to show theh slope\n",
    "#Remove \"#\" to show theh slope\n",
    "#print(slope_10_PE)\n",
    "#Show the plot by removing \"#\" from the code below\n",
    "#plt.show()\n",
    "\n",
    "\n",
    "# Perform linear regression on fourth treatment\n",
    "x = mnps_log['100 PE MPs/mL_Length']\n",
    "y = mnps_log['100 PE MPs/mL_Weight']\n",
    "slope, intercept, r_value, p_value, std_err = linregress(x, y)\n",
    "\n",
    "# Create the plot\n",
    "sns.set_theme()\n",
    "#remove the \"#\" to visualzie the plot\n",
    "#sns.regplot(data=mnps_log, x=x, y=y, fit_reg=True)\n",
    "\n",
    "# Add the regression equation as text\n",
    "equation = f\"y = {slope:.2f}x + {intercept:.2f}\\nR² = {r_value**2:.2f}\"\n",
    "#remove the \"#\" to visualzie the plot\n",
    "#plt.text(x.min(), y.max(), equation, fontsize=12, color='blue')\n",
    "\n",
    "slope_100_PE = round(slope,2)\n",
    "type_growth[\"100_PE\"] = slope_100_PE\n",
    "#Remove \"#\" to show theh slope\n",
    "#print(slope_100_PE)\n",
    "#Show the plot by removing \"#\" from the code below\n",
    "#plt.show()\n",
    "\n",
    "\n",
    "\n"
   ]
  },
  {
   "cell_type": "markdown",
   "id": "54932ad8-1ec0-440f-8e1f-df78a5617ac9",
   "metadata": {},
   "source": [
    "Summary of growth patterns"
   ]
  },
  {
   "cell_type": "code",
   "execution_count": 44,
   "id": "2e19b8f0-cde4-4b50-af61-137ddb85e9e1",
   "metadata": {},
   "outputs": [
    {
     "name": "stdout",
     "output_type": "stream",
     "text": [
      "Control, 2.94, Negative Allometric growth\n",
      "1_PE, 2.45, Negative Allometric growth\n",
      "10_PE, 1.96, Negative Allometric growth\n",
      "100_PE, 3.17, Positive Allometric growth\n"
     ]
    }
   ],
   "source": [
    "#summary of the type of growth pattern observed under diffrernt treatment conditioins\n",
    "for key, value in type_growth.items():\n",
    "    if value > 3:\n",
    "        print(f\"{key}, {value}, Positive Allometric growth\")\n",
    "    if value < 3:\n",
    "        print(f\"{key}, {value}, Negative Allometric growth\")\n",
    "    if value == 3:\n",
    "        print(f\"{key}, {value}, Positive Allometric growth\")"
   ]
  },
  {
   "cell_type": "markdown",
   "id": "2024d1a9-9529-4164-aff2-d768a2d972cc",
   "metadata": {},
   "source": [
    "## 2. BODY CONDITION FACTOR (K)"
   ]
  },
  {
   "cell_type": "code",
   "execution_count": 45,
   "id": "0a47df64-62b6-48f9-b718-eb1ab52411a5",
   "metadata": {},
   "outputs": [
    {
     "name": "stdout",
     "output_type": "stream",
     "text": [
      "Control,: 1.43\n",
      "k_1PE ,: 3.84\n",
      "k_10_PE,: 11.91\n",
      "k_100PE,: 0.67\n"
     ]
    },
    {
     "data": {
      "image/png": "[encoded data removed]",
      "text/plain": [
       "<Figure size 640x480 with 1 Axes>"
      ]
     },
     "metadata": {},
     "output_type": "display_data"
    }
   ],
   "source": [
    "# K shows the degree of wellbeing of the fish unnder experimental conditions \n",
    "#Fulton’s equation, K = 100W/ Lb\n",
    "#K = condition factor\n",
    "#W = the weight of the fish in gram (g), used average weight per treatment to calculate body condition\n",
    "#L = the total length of the fish in centimeters (cm) and average length\n",
    "# b = the value obtained from the length-weight equation\n",
    "\n",
    "#calculating body condtion per treatment\n",
    "for key, value in type_growth.items():\n",
    "    if key == \"Control\":\n",
    "        k_c = 100 * mnps['100 PE MPs/mL_Weight'].mean() / mnps[\"Control_Length\"].mean() ** value\n",
    "        body_condition[\"Control\"] = round(k_c,2)\n",
    "       \n",
    "    if key == \"1_PE\":\n",
    "        k_1PE = 100 * mnps['1 PE MPs/mL_Weight'].mean() / mnps[\"1 PE MPs/mL_Length\"].mean() ** value\n",
    "        body_condition[\"k_1PE \"] = round(k_1PE,2)\n",
    "        \n",
    "    if key == \"10_PE\":\n",
    "        k_10_PE = 100 * mnps['10 PE MPs/mL_Weight'].mean() / mnps[\"10 PE MPs/mL_Length\"].mean() ** value\n",
    "        body_condition[\"k_10_PE\"] = round(k_10_PE,2)\n",
    "        \n",
    "    if key == \"100_PE\":\n",
    "        k_100PE = 100 * mnps['100 PE MPs/mL_Weight'].mean() / mnps[\"100 PE MPs/mL_Length\"].mean() ** value\n",
    "        body_condition[\"k_100PE\"] =  round(k_100PE,2)\n",
    "        \n",
    "#creating a dictionaty with body condtion per treatment\n",
    "for i,j in body_condition.items():\n",
    "    print(f\"{i},: {j}\")\n",
    "\n",
    "#creating a dataframe to plot bobody_condition per treatment\n",
    "mnps_plot = pd.DataFrame(list(body_condition.items()), columns=[\"Treatments\", \"Condition factor\"])\n",
    "mnps_plot\n",
    "\n",
    "#creating a barplot of body condition per treatment\n",
    "# Create the bar plot\n",
    "plot_PE = sns.barplot(x=\"Treatments\", y=\"Condition factor\", data=mnps_plot, hue=mnps_plot['Treatments'])\n",
    "\n",
    "# Add value labels\n",
    "for p in plot_PE.patches:\n",
    "    height = p.get_height()\n",
    "    plot_PE.annotate(f'{height:.2f}', (p.get_x() + p.get_width() / 2., height),\n",
    "                ha='center', va='bottom', xytext=(0, 5),\n",
    "                textcoords='offset points')\n",
    "\n",
    "# adding labels to the plot\n",
    "plt.xlabel(\"Treatments\")\n",
    "plt.ylabel(\"Condition Factor\")\n",
    "#plt.title(\"Comparison of Condition Factors Across Treatments\")\n",
    "\n",
    "sns.set_theme()\n",
    "plt.tight_layout()\n",
    "plt.show()"
   ]
  },
  {
   "cell_type": "markdown",
   "id": "62b3ddff-f05d-494f-bdcc-31ca25b6d072",
   "metadata": {},
   "source": [
    "## 3. SIGNIFICANT DIFFERENCE IN GROWTH BETWEEN THE TREATMENTS"
   ]
  },
  {
   "cell_type": "code",
   "execution_count": 47,
   "id": "bad950b7-217f-4f58-9e3b-93c0ecbd59db",
   "metadata": {},
   "outputs": [],
   "source": [
    "#creation of dataframe with growth variabble among trietments\n",
    "mnps_aov = pd.DataFrame(mnps[[\"Control_Weight\", \"1 PE MPs/mL_Weight\", \"10 PE MPs/mL_Weight\", \"100 PE MPs/mL_Weight\"]]) "
   ]
  },
  {
   "cell_type": "code",
   "execution_count": 48,
   "id": "6f5d8859-d0dc-4f17-9453-fc63367ecfc0",
   "metadata": {},
   "outputs": [
    {
     "data": {
      "text/html": [
       "<div>\n",
       "<style scoped>\n",
       "    .dataframe tbody tr th:only-of-type {\n",
       "        vertical-align: middle;\n",
       "    }\n",
       "\n",
       "    .dataframe tbody tr th {\n",
       "        vertical-align: top;\n",
       "    }\n",
       "\n",
       "    .dataframe thead th {\n",
       "        text-align: right;\n",
       "    }\n",
       "</style>\n",
       "<table border=\"1\" class=\"dataframe\">\n",
       "  <thead>\n",
       "    <tr style=\"text-align: right;\">\n",
       "      <th></th>\n",
       "      <th>Control_Weight</th>\n",
       "      <th>1 PE MPs/mL_Weight</th>\n",
       "      <th>10 PE MPs/mL_Weight</th>\n",
       "      <th>100 PE MPs/mL_Weight</th>\n",
       "    </tr>\n",
       "  </thead>\n",
       "  <tbody>\n",
       "    <tr>\n",
       "      <th>0</th>\n",
       "      <td>10.0000</td>\n",
       "      <td>10.0000</td>\n",
       "      <td>10.0000</td>\n",
       "      <td>10.0000</td>\n",
       "    </tr>\n",
       "    <tr>\n",
       "      <th>1</th>\n",
       "      <td>12.0304</td>\n",
       "      <td>14.1925</td>\n",
       "      <td>12.4839</td>\n",
       "      <td>15.6117</td>\n",
       "    </tr>\n",
       "    <tr>\n",
       "      <th>2</th>\n",
       "      <td>12.2885</td>\n",
       "      <td>14.4442</td>\n",
       "      <td>12.6366</td>\n",
       "      <td>15.8678</td>\n",
       "    </tr>\n",
       "    <tr>\n",
       "      <th>3</th>\n",
       "      <td>12.5317</td>\n",
       "      <td>14.6898</td>\n",
       "      <td>12.7807</td>\n",
       "      <td>16.1147</td>\n",
       "    </tr>\n",
       "    <tr>\n",
       "      <th>4</th>\n",
       "      <td>12.7834</td>\n",
       "      <td>14.9380</td>\n",
       "      <td>12.9281</td>\n",
       "      <td>16.3698</td>\n",
       "    </tr>\n",
       "  </tbody>\n",
       "</table>\n",
       "</div>"
      ],
      "text/plain": [
       "   Control_Weight  1 PE MPs/mL_Weight  10 PE MPs/mL_Weight  \\\n",
       "0         10.0000             10.0000              10.0000   \n",
       "1         12.0304             14.1925              12.4839   \n",
       "2         12.2885             14.4442              12.6366   \n",
       "3         12.5317             14.6898              12.7807   \n",
       "4         12.7834             14.9380              12.9281   \n",
       "\n",
       "   100 PE MPs/mL_Weight  \n",
       "0               10.0000  \n",
       "1               15.6117  \n",
       "2               15.8678  \n",
       "3               16.1147  \n",
       "4               16.3698  "
      ]
     },
     "execution_count": 48,
     "metadata": {},
     "output_type": "execute_result"
    }
   ],
   "source": [
    "mnps_aov.head() #viewing first five rows of the dataframe"
   ]
  },
  {
   "cell_type": "markdown",
   "id": "1b5f862b-c58e-4f6d-9251-d823dfbf38f0",
   "metadata": {},
   "source": [
    "# I utilize one way anova to show the functionality of the code even though the assumptions were not met \n",
    "# There is a seperate code to undertake Kruskal-Wallis test in the same script."
   ]
  },
  {
   "cell_type": "markdown",
   "id": "aa45d1e8-b7cc-4a94-9f18-08b5cabee650",
   "metadata": {},
   "source": [
    "## A. One_Way Anova"
   ]
  },
  {
   "cell_type": "code",
   "execution_count": 49,
   "id": "5bd3d1b4-11cf-4a97-ac6b-dec1e9334d69",
   "metadata": {},
   "outputs": [
    {
     "data": {
      "text/html": [
       "<div>\n",
       "<style scoped>\n",
       "    .dataframe tbody tr th:only-of-type {\n",
       "        vertical-align: middle;\n",
       "    }\n",
       "\n",
       "    .dataframe tbody tr th {\n",
       "        vertical-align: top;\n",
       "    }\n",
       "\n",
       "    .dataframe thead th {\n",
       "        text-align: right;\n",
       "    }\n",
       "</style>\n",
       "<table border=\"1\" class=\"dataframe\">\n",
       "  <thead>\n",
       "    <tr style=\"text-align: right;\">\n",
       "      <th></th>\n",
       "      <th>sum_sq</th>\n",
       "      <th>df</th>\n",
       "      <th>F</th>\n",
       "      <th>PR(&gt;F)</th>\n",
       "    </tr>\n",
       "  </thead>\n",
       "  <tbody>\n",
       "    <tr>\n",
       "      <th>C(Treatments)</th>\n",
       "      <td>153.594590</td>\n",
       "      <td>3.0</td>\n",
       "      <td>17.683363</td>\n",
       "      <td>1.802281e-08</td>\n",
       "    </tr>\n",
       "    <tr>\n",
       "      <th>Residual</th>\n",
       "      <td>185.297596</td>\n",
       "      <td>64.0</td>\n",
       "      <td>NaN</td>\n",
       "      <td>NaN</td>\n",
       "    </tr>\n",
       "  </tbody>\n",
       "</table>\n",
       "</div>"
      ],
      "text/plain": [
       "                   sum_sq    df          F        PR(>F)\n",
       "C(Treatments)  153.594590   3.0  17.683363  1.802281e-08\n",
       "Residual       185.297596  64.0        NaN           NaN"
      ]
     },
     "execution_count": 49,
     "metadata": {},
     "output_type": "execute_result"
    }
   ],
   "source": [
    "#Carryinng out oneway analysis of variance to assess the effects of mnps on the growth of fish\n",
    "mnps_aovm= pd.melt(mnps_aov.reset_index(), id_vars=['index'], value_vars=['Control_Weight','1 PE MPs/mL_Weight', '10 PE MPs/mL_Weight', '100 PE MPs/mL_Weight'])\n",
    "mnps_aovm.columns = ['index', 'Treatments', 'Value']\n",
    "#Droping columns based on index positions\n",
    "mnps_aovm= mnps_aovm.drop(mnps_aovm.columns[0], axis=1)\n",
    "#Creating anova table for treatments\n",
    "import statsmodels.api as sm\n",
    "from statsmodels.formula.api import ols #used to generate anova results table\n",
    "\n",
    "# carrying out ordinary Least Squares (ols)  model on the four mnps treatmens\n",
    "mnps_model = ols('Value ~ C(Treatments)', data=mnps_aovm).fit()\n",
    "mnps_anova_table = sm.stats.anova_lm(mnps_model, typ=2) # create anova table\n",
    "mnps_anova_table #call to view the anove results in a nice table"
   ]
  },
  {
   "cell_type": "markdown",
   "id": "97af01ef-d407-4079-ae82-9f0c77b3c9da",
   "metadata": {},
   "source": [
    "## B. POST HOC TEST"
   ]
  },
  {
   "cell_type": "code",
   "execution_count": 50,
   "id": "2a928d65-22d7-4c28-88fe-b409fa9d17e5",
   "metadata": {},
   "outputs": [
    {
     "name": "stdout",
     "output_type": "stream",
     "text": [
      "              Multiple Comparison of Means - Tukey HSD, FWER=0.05               \n",
      "================================================================================\n",
      "       group1               group2        meandiff p-adj   lower   upper  reject\n",
      "--------------------------------------------------------------------------------\n",
      "  1 PE MPs/mL_Weight  10 PE MPs/mL_Weight  -2.3056 0.0011 -3.8451 -0.7661   True\n",
      "  1 PE MPs/mL_Weight 100 PE MPs/mL_Weight   1.3594 0.1021 -0.1801  2.8989  False\n",
      "  1 PE MPs/mL_Weight       Control_Weight  -2.0162 0.0053 -3.5557 -0.4767   True\n",
      " 10 PE MPs/mL_Weight 100 PE MPs/mL_Weight   3.6651    0.0  2.1255  5.2046   True\n",
      " 10 PE MPs/mL_Weight       Control_Weight   0.2895 0.9597 -1.2501   1.829  False\n",
      "100 PE MPs/mL_Weight       Control_Weight  -3.3756    0.0 -4.9151 -1.8361   True\n",
      "--------------------------------------------------------------------------------\n"
     ]
    }
   ],
   "source": [
    "#perform multiple pairwise comparison using Tukey's HSD to determine the actual treatments which we significantly different\n",
    "from statsmodels.stats.multicomp import pairwise_tukeyhsd\n",
    "tukey_results = pairwise_tukeyhsd(mnps_aovm['Value'], mnps_aovm['Treatments'])\n",
    "print(tukey_results)"
   ]
  },
  {
   "cell_type": "markdown",
   "id": "deb40a28-1f60-43d0-af0a-6bc89adc386c",
   "metadata": {},
   "source": [
    "## c. CHECKING ANOVA ASSUMTIONS"
   ]
  },
  {
   "cell_type": "code",
   "execution_count": 51,
   "id": "363f1f87-0e79-4237-857d-c84fa417830e",
   "metadata": {},
   "outputs": [
    {
     "name": "stdout",
     "output_type": "stream",
     "text": [
      "1.853e-06 : Data not normally distributed\n"
     ]
    },
    {
     "data": {
      "image/png": "[encoded data removed]",
      "text/plain": [
       "<Figure size 640x480 with 1 Axes>"
      ]
     },
     "metadata": {},
     "output_type": "display_data"
    }
   ],
   "source": [
    "#1 NORMALITY \n",
    "#code checks for normality and gives a general summary of the test with bargraph for visual judgement\n",
    "import scipy.stats as stats\n",
    "norm1 = stats.shapiro(mnps_model.resid) #CHECK FOR NORMALITY\n",
    "#VISUALLY CHECKING IF THE ASSUMPTION OF NORMALITY IS MET  AND A SUMMARY OF THE OUTPUT\n",
    "\n",
    "if norm1.pvalue < 0.05:\n",
    "    print(round(norm1.pvalue,9), \": Data not normally distributed\")\n",
    "    plt.hist(mnps_model.resid, bins='auto', histtype='bar', ec='k') \n",
    "elif norm1.pvalue >= 0.05:\n",
    "    print(round(norm1.pvalue,9), \": Data is normally distributed\")\n",
    "    plt.hist(mnps_model.resid, bins='auto', histtype='bar', ec='k')\n"
   ]
  },
  {
   "cell_type": "code",
   "execution_count": 54,
   "id": "d2407c43-5651-4aba-b5d6-1daa095677bb",
   "metadata": {},
   "outputs": [
    {
     "name": "stdout",
     "output_type": "stream",
     "text": [
      "Summary: shapiro-wilk test 1.853e-06 ,residualS are not normally distributed\n",
      "Summary: levene test, P-value: 0.49354959610644145 ,populations have equal variances\n"
     ]
    }
   ],
   "source": [
    "#2 HOMOGENEITY OF VARIANCES\n",
    "#run levene or Bartlett's test if the assumption of normality is violated and provide a summary of the test\n",
    "if norm1.pvalue < 0.05:\n",
    "    print(\"Summary: shapiro-wilk test\", round(norm1.pvalue,9),\",residualS are not normally distributed\")\n",
    "    mnps_lev = stats.levene(mnps_aov[\"Control_Weight\"],mnps_aov[\"1 PE MPs/mL_Weight\"],mnps_aov[\"10 PE MPs/mL_Weight\"],mnps_aov[\"100 PE MPs/mL_Weight\"]) #default center = median\n",
    "    if mnps_lev.pvalue < 0.05:\n",
    "        print(\"Summary: levene test, P-value:\", mnps_lev.pvalue,\",populations do not have equal variances\")\n",
    "    elif mnps_lev.pvalue >= 0.05:\n",
    "        print(\"Summary: levene test, P-value:\", mnps_lev.pvalue,\",populations have equal variances\")\n",
    "#run bartlett test if the assumption of normality is not violated and provide a summary of the outcome\n",
    "elif norm1.pvalue >= 0.05: \n",
    "    print(\"Summary: shapiro-wilk test\", round(norm1.pvalue,9),\", residuals are normally distributed\")\n",
    "    mnps_bart = stats.bartlett(mnps_aov[\"Control_Weight\"],mnps_aov[\"1 PE MPs/mL_Weight\"],mnps_aov[\"10 PE MPs/mL_Weight\"],mnps_aov[\"100 PE MPs/mL_Weight\"])\n",
    "    if mnps_bart.pvalue < 0.05:\n",
    "        print(\"Summary: bartlett test, P-value: \", mnps_bart.pvalue,\",populations do not have equal variances\")\n",
    "    elif mnps_bart.pvalue >= 0.05:\n",
    "        print(\"Summary: bartlett test, P-value: \", mnps_bart.pvalue,\",populations have equal variances\")\n",
    "    "
   ]
  },
  {
   "cell_type": "code",
   "execution_count": 55,
   "id": "eee320a7-8086-455f-ae88-93df9c427cc9",
   "metadata": {},
   "outputs": [
    {
     "data": {
      "text/plain": [
       "KruskalResult(statistic=36.820326817348835, pvalue=5.0222654803347145e-08)"
      ]
     },
     "execution_count": 55,
     "metadata": {},
     "output_type": "execute_result"
    }
   ],
   "source": [
    "#test if there is sifinificatnt difference in ranks when in groups and not normally distributed\n",
    "mnps_kruskal = stats.kruskal(mnps_aov['Control_Weight'],mnps_aov['1 PE MPs/mL_Weight'], mnps_aov['10 PE MPs/mL_Weight'], mnps_aov['100 PE MPs/mL_Weight'])\n",
    "mnps_kruskal"
   ]
  },
  {
   "cell_type": "markdown",
   "id": "acd62f8a-7895-454c-96a1-cbe915d27b97",
   "metadata": {},
   "source": [
    "## GENE EXPRESSION"
   ]
  },
  {
   "cell_type": "code",
   "execution_count": 21,
   "id": "0e799991-d92f-4bb2-9f7a-9cac76b94376",
   "metadata": {},
   "outputs": [],
   "source": [
    "#importing data\n",
    "mnpgene = pd.read_csv(\"GENE_EX.csv\")"
   ]
  },
  {
   "cell_type": "code",
   "execution_count": 22,
   "id": "d683a30f-9fd9-45d0-a14d-6cf564a7147f",
   "metadata": {},
   "outputs": [
    {
     "data": {
      "text/html": [
       "<div>\n",
       "<style scoped>\n",
       "    .dataframe tbody tr th:only-of-type {\n",
       "        vertical-align: middle;\n",
       "    }\n",
       "\n",
       "    .dataframe tbody tr th {\n",
       "        vertical-align: top;\n",
       "    }\n",
       "\n",
       "    .dataframe thead th {\n",
       "        text-align: right;\n",
       "    }\n",
       "</style>\n",
       "<table border=\"1\" class=\"dataframe\">\n",
       "  <thead>\n",
       "    <tr style=\"text-align: right;\">\n",
       "      <th></th>\n",
       "      <th>baseMean</th>\n",
       "      <th>log2FoldChange</th>\n",
       "      <th>lfcSE</th>\n",
       "      <th>stat</th>\n",
       "      <th>pvalue</th>\n",
       "      <th>padj</th>\n",
       "      <th>Gene</th>\n",
       "    </tr>\n",
       "  </thead>\n",
       "  <tbody>\n",
       "    <tr>\n",
       "      <th>0</th>\n",
       "      <td>17119.520240</td>\n",
       "      <td>-0.266836</td>\n",
       "      <td>0.284693</td>\n",
       "      <td>-0.937275</td>\n",
       "      <td>0.348617</td>\n",
       "      <td>0.602675</td>\n",
       "      <td>ENO1</td>\n",
       "    </tr>\n",
       "    <tr>\n",
       "      <th>1</th>\n",
       "      <td>4706.550818</td>\n",
       "      <td>-0.529773</td>\n",
       "      <td>0.327682</td>\n",
       "      <td>-1.616728</td>\n",
       "      <td>0.105937</td>\n",
       "      <td>0.276062</td>\n",
       "      <td>MTATP6P1</td>\n",
       "    </tr>\n",
       "    <tr>\n",
       "      <th>2</th>\n",
       "      <td>5193.607288</td>\n",
       "      <td>0.435464</td>\n",
       "      <td>0.122705</td>\n",
       "      <td>3.548872</td>\n",
       "      <td>0.000387</td>\n",
       "      <td>0.004651</td>\n",
       "      <td>CLSTN1</td>\n",
       "    </tr>\n",
       "    <tr>\n",
       "      <th>3</th>\n",
       "      <td>22753.900970</td>\n",
       "      <td>0.364604</td>\n",
       "      <td>0.345000</td>\n",
       "      <td>1.056823</td>\n",
       "      <td>0.290592</td>\n",
       "      <td>0.543192</td>\n",
       "      <td>CLIC4</td>\n",
       "    </tr>\n",
       "    <tr>\n",
       "      <th>4</th>\n",
       "      <td>3902.850620</td>\n",
       "      <td>-0.189355</td>\n",
       "      <td>0.149950</td>\n",
       "      <td>-1.262784</td>\n",
       "      <td>0.206667</td>\n",
       "      <td>0.427057</td>\n",
       "      <td>CAPZB</td>\n",
       "    </tr>\n",
       "  </tbody>\n",
       "</table>\n",
       "</div>"
      ],
      "text/plain": [
       "       baseMean  log2FoldChange     lfcSE      stat    pvalue      padj  \\\n",
       "0  17119.520240       -0.266836  0.284693 -0.937275  0.348617  0.602675   \n",
       "1   4706.550818       -0.529773  0.327682 -1.616728  0.105937  0.276062   \n",
       "2   5193.607288        0.435464  0.122705  3.548872  0.000387  0.004651   \n",
       "3  22753.900970        0.364604  0.345000  1.056823  0.290592  0.543192   \n",
       "4   3902.850620       -0.189355  0.149950 -1.262784  0.206667  0.427057   \n",
       "\n",
       "       Gene  \n",
       "0      ENO1  \n",
       "1  MTATP6P1  \n",
       "2    CLSTN1  \n",
       "3     CLIC4  \n",
       "4     CAPZB  "
      ]
     },
     "execution_count": 22,
     "metadata": {},
     "output_type": "execute_result"
    }
   ],
   "source": [
    "mnpgene.head() #viewing fist 5 row of the data"
   ]
  },
  {
   "cell_type": "code",
   "execution_count": 56,
   "id": "0e2336d9-5aba-4a03-a500-0592bb4ae068",
   "metadata": {},
   "outputs": [
    {
     "data": {
      "image/png": "[encoded data removed]",
      "text/plain": [
       "<Figure size 640x480 with 1 Axes>"
      ]
     },
     "metadata": {},
     "output_type": "display_data"
    }
   ],
   "source": [
    "#visualizing top 15 expressed genes based on the pvalue\n",
    "sort_mnp_sort = mnpgene.sort_values(by=\"pvalue\",ascending=True)\n",
    "first15 = 15\n",
    "plt.bar(sort_mnp_sort['Gene'] [:first15], sort_mnp_sort['pvalue'][:first15])\n",
    "plt.xticks(rotation = 60)\n",
    "plt.xlabel(\"Gene\")\n",
    "plt.ylabel(\"Pvalue\")\n",
    "plt.show()\n"
   ]
  },
  {
   "cell_type": "code",
   "execution_count": 24,
   "id": "3dd2338a-3d55-4a8d-9ccc-51d590ed8931",
   "metadata": {},
   "outputs": [],
   "source": [
    "#adding a new column for geneexpressio anaysis\n",
    "mnpgene[\"-log10(pvalue)\"] = -np.log10(mnpgene[\"pvalue\"])"
   ]
  },
  {
   "cell_type": "code",
   "execution_count": 25,
   "id": "08b494c5-69ec-4be9-93ca-3e40833bff0c",
   "metadata": {},
   "outputs": [],
   "source": [
    "#Creating an adjustable thresholds for significance\n",
    "log2FC_threshold = 1.0\n",
    "pvalue_threshold = 0.05"
   ]
  },
  {
   "cell_type": "code",
   "execution_count": 57,
   "id": "18c49162-ce26-406e-9bd1-7b6f844ba939",
   "metadata": {},
   "outputs": [
    {
     "data": {
      "image/png": "[encoded data removed]",
      "text/plain": [
       "<Figure size 640x480 with 1 Axes>"
      ]
     },
     "metadata": {},
     "output_type": "display_data"
    }
   ],
   "source": [
    "#Creating a vvolcano plot of the expressed genes\n",
    "# generating x and y coordinates for non-significant genes\n",
    "ns_x =  mnpgene[abs(mnpgene[\"log2FoldChange\"]) < log2FC_threshold][\"log2FoldChange\"]\n",
    "ns_y = mnpgene[abs(mnpgene[\"log2FoldChange\"]) < log2FC_threshold][\"-log10(pvalue)\"]\n",
    "\n",
    "# generating x and y coordinates for significant points (up-regulated)\n",
    "nsup_x = mnpgene[(mnpgene[\"log2FoldChange\"] >= log2FC_threshold) & (mnpgene[\"pvalue\"] < pvalue_threshold)][\"log2FoldChange\"],\n",
    "nsup_y = mnpgene[(mnpgene[\"log2FoldChange\"] >= log2FC_threshold) & (mnpgene[\"pvalue\"] < pvalue_threshold)][\"-log10(pvalue)\"],\n",
    "\n",
    "# generating x and y coordinates for significant points (down-regulated)\n",
    "nsd_x = mnpgene[(mnpgene[\"log2FoldChange\"] <= -log2FC_threshold) & (mnpgene[\"pvalue\"] < pvalue_threshold)][\"log2FoldChange\"],\n",
    "nsd_y = mnpgene[(mnpgene[\"log2FoldChange\"] <= -log2FC_threshold) & (mnpgene[\"pvalue\"] < pvalue_threshold)][\"-log10(pvalue)\"],\n",
    "\n",
    "#plotting expressed genes\n",
    "plt.scatter(nsd_x,nsd_y, color=\"orange\", alpha=0.5,label=\"Down-regulated\")\n",
    "plt.scatter(ns_x, ns_y, color=\"gray\",alpha=0.5,label=\"Not Significant\")\n",
    "plt.scatter(nsup_x,nsup_y, color=\"purple\",alpha=0.5, label=\"Up-regulated\")\n",
    "\n",
    "# plotting the  thresholds lines\n",
    "plt.axvline(x=log2FC_threshold, color=\"black\", linestyle=\"--\", linewidth=1)\n",
    "plt.axvline(x=-log2FC_threshold, color=\"black\", linestyle=\"--\", linewidth=1)\n",
    "plt.axhline(y=-np.log10(pvalue_threshold), color=\"black\", linestyle=\"--\", linewidth=1)\n",
    "\n",
    "# adding  labels and title to the plot\n",
    "plt.xlabel(\"log2(Fold Change)\")\n",
    "plt.ylabel(\"-log10(p-value)\")\n",
    "#plt.title(\"Volcano Plot of Defrentially \")\n",
    "plt.legend()\n",
    "\n",
    "# Show the plot\n",
    "plt.show()"
   ]
  },
  {
   "cell_type": "code",
   "execution_count": 58,
   "id": "accf13dc-2a2d-4b91-8975-132ab4203e21",
   "metadata": {},
   "outputs": [],
   "source": [
    "#Names of the significantly expressed genes\n",
    "\n",
    "# Generating significantly up-regulated genes and sorting based on the -log10(pvalue)\n",
    "upregulated_genes = mnpgene[(mnpgene[\"log2FoldChange\"] > log2FC_threshold) & (mnpgene[\"pvalue\"] < pvalue_threshold)]\n",
    "upregulated_genes_sorted = upregulated_genes.sort_values(by=\"-log10(pvalue)\", ascending=False)\n",
    "\n",
    "#Generating significantly down-regulated genes and sorting based on the -log10(pvalue)\n",
    "downregulated_genes = mnpgene[(mnpgene[\"log2FoldChange\"] < -log2FC_threshold) & (mnpgene[\"pvalue\"] < pvalue_threshold)]\n",
    "downregulated_genes_sorted = downregulated_genes.sort_values(by=\"-log10(pvalue)\", ascending=False)\n"
   ]
  },
  {
   "cell_type": "code",
   "execution_count": 59,
   "id": "36f385a3-a0e4-48d5-b69e-02399a6df39a",
   "metadata": {},
   "outputs": [
    {
     "name": "stdout",
     "output_type": "stream",
     "text": [
      "Up-regulated Genes (sorted by -log10(pvalue)):\n",
      "         Gene  -log10(pvalue)\n",
      "220  SERPINE1       25.552842\n",
      "86   SERPINE2       11.958607\n",
      "217     SFRP4        8.612610\n",
      "178     SLIT3        7.518557\n",
      "62     EFEMP1        7.031050\n",
      "293   B4GALT1        6.570248\n",
      "107      HEG1        5.333482\n",
      "406     THBS1        5.110698\n",
      "349     P4HA1        4.087778\n",
      "260       CLU        3.767932\n",
      "303      FTH1        3.614238\n",
      "41       ECM1        3.344019\n",
      "273      PLAT        2.973599\n",
      "240    IGFBP3        2.914010\n",
      "309    PRSS23        2.519854\n",
      "213      CCN2        1.866764\n",
      "263     SULF1        1.537846\n",
      "183       LOX        1.368030\n",
      "128    CCDC80        1.353719\n",
      "115     PLOD2        1.344731\n",
      "\n",
      "Down-regulated Genes (sorted by -log10(pvalue)):\n",
      "          Gene  -log10(pvalue)\n",
      "92        PTMA        6.987163\n",
      "193      HMGA1        6.434152\n",
      "238  HNRNPA2B1        4.040005\n",
      "372    HNRNPA1        3.880378\n",
      "292     TUBB4B        3.169495\n",
      "90        ODC1        2.600057\n",
      "99      COL6A3        1.815076\n",
      "5          WLS        1.570387\n"
     ]
    }
   ],
   "source": [
    "#showing the names of the significantly expressed genes\n",
    "print(\"Up-regulated Genes (sorted by -log10(pvalue)):\")\n",
    "print(upregulated_genes_sorted[[\"Gene\", \"-log10(pvalue)\"]])\n",
    "\n",
    "print(\"\\nDown-regulated Genes (sorted by -log10(pvalue)):\")\n",
    "print(downregulated_genes_sorted[[\"Gene\", \"-log10(pvalue)\"]])"
   ]
  },
  {
   "cell_type": "code",
   "execution_count": null,
   "id": "fe72c46b-b874-4294-beb6-79d6f082def0",
   "metadata": {},
   "outputs": [],
   "source": []
  },
  {
   "cell_type": "code",
   "execution_count": null,
   "id": "95949ba2-fe6b-47b1-8e54-0971e1374379",
   "metadata": {},
   "outputs": [],
   "source": []
  },
  {
   "cell_type": "code",
   "execution_count": null,
   "id": "c0300362-f41d-4617-acc1-4f8954760e93",
   "metadata": {},
   "outputs": [],
   "source": []
  },
  {
   "cell_type": "code",
   "execution_count": null,
   "id": "72bbf01b-1d7b-4e38-b760-571502716c86",
   "metadata": {},
   "outputs": [],
   "source": []
  },
  {
   "cell_type": "code",
   "execution_count": null,
   "id": "ba3a3fe8-7a76-4e19-a1c7-5b77f2493996",
   "metadata": {},
   "outputs": [],
   "source": []
  }
 ],
 "metadata": {
  "kernelspec": {
   "display_name": "Python 3 (ipykernel)",
   "language": "python",
   "name": "python3"
  },
  "language_info": {
   "codemirror_mode": {
    "name": "ipython",
    "version": 3
   },
   "file_extension": ".py",
   "mimetype": "text/x-python",
   "name": "python",
   "nbconvert_exporter": "python",
   "pygments_lexer": "ipython3",
   "version": "3.12.7"
  }
 },
 "nbformat": 4,
 "nbformat_minor": 5
}
